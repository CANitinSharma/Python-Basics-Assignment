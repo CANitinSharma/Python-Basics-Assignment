{
  "nbformat": 4,
  "nbformat_minor": 0,
  "metadata": {
    "colab": {
      "provenance": []
    },
    "kernelspec": {
      "name": "python3",
      "display_name": "Python 3"
    },
    "language_info": {
      "name": "python"
    }
  },
  "cells": [
    {
      "cell_type": "markdown",
      "source": [
        "### ***Theoretical Questions***"
      ],
      "metadata": {
        "id": "qZfcWKr-tmqI"
      }
    },
    {
      "cell_type": "markdown",
      "source": [
        "Question 1:- What is Python, and why is it popular ?\n",
        "\n",
        "Answer 1:- Python is a programming language which is widely used:-\n",
        "- Have a strong members committee.\n",
        "- Rich Libraries (e.g Pandas, Lumphy)\n",
        "- Easy to use language."
      ],
      "metadata": {
        "id": "2zARZdKInF-C"
      }
    },
    {
      "cell_type": "markdown",
      "source": [
        "Ques 2:-  What is an interpreter in Python ?\n",
        "\n",
        "Answer 2:- Intepreter in Python helps running a code in python line by line."
      ],
      "metadata": {
        "id": "PRZfS-_gnwA1"
      }
    },
    {
      "cell_type": "markdown",
      "source": [
        " Ques 3:- What are pre-defined keywords in Python ?\n",
        "\n",
        " Answer 3:- Predefined keywords are basically in built functions in of python which help in writting a code.\n",
        " E.g. Input, is , in , if , for , elif e.t.c"
      ],
      "metadata": {
        "id": "k7Dxqs52oJfL"
      }
    },
    {
      "cell_type": "markdown",
      "source": [
        "Question 4:- Can keywords be used as variable names ?\n",
        "\n",
        "Answer 4:- No, keywords cannot  be used as variable names"
      ],
      "metadata": {
        "id": "ghLD74XRo3j1"
      }
    },
    {
      "cell_type": "markdown",
      "source": [
        "Question 5:- What is mutability in Python ?\n",
        "\n",
        "Answer:- Mutability simply means that the item can be edited or changed list in python is an example of mutable items."
      ],
      "metadata": {
        "id": "oeK9B8P9pKHM"
      }
    },
    {
      "cell_type": "markdown",
      "source": [
        "Question 7 :- What is the difference between “==” and “is” operators in Python ?\n",
        "\n",
        "Answer 7:- \"==\" is used to compare the contents (or value) of two variables.\n",
        "\"is\" is used to check whether two variables point to the same object in memory."
      ],
      "metadata": {
        "id": "NyFVQXKgtKLm"
      }
    },
    {
      "cell_type": "markdown",
      "source": [
        "Question 8:- What are logical operators in Python ?\n",
        "\n",
        "Answer 8:- True & False are the two logical operator in Python."
      ],
      "metadata": {
        "id": "Ssh0X10XpXyG"
      }
    },
    {
      "cell_type": "markdown",
      "source": [
        "Question 9 :- What is type casting in Python ?\n",
        "\n",
        "Answer:- Changint type of any variable in know as typecasting.\n",
        "E.g a=\"2\"\n",
        "a=int(a)"
      ],
      "metadata": {
        "id": "-dQyEDxYp1Ks"
      }
    },
    {
      "cell_type": "markdown",
      "source": [
        "Question 10:- What is the difference between implicit and explicit type casting ?\n",
        "\n",
        "Answer:- Implicit typecasting is the inbuilt capability of python to classify a variable into str, int type\n",
        "E.g. a=2 here for python type of a is int this is implicit typecasting\n",
        "\n",
        "Howerver if we change the type manually to let's say float or Str then this will be known as explicit typecasting.\n"
      ],
      "metadata": {
        "id": "SPiP5Mt4qPOq"
      }
    },
    {
      "cell_type": "markdown",
      "source": [
        "Question 11:- What is the purpose of conditional statements in Python ?\n",
        "\n",
        "Answer 11:- Conditional statement are used to define a condtion in python based on which we will get the outcome.\n",
        "If, else  & elif are the examples of conditional operators in python."
      ],
      "metadata": {
        "id": "uwyU_jcmrA9T"
      }
    },
    {
      "cell_type": "markdown",
      "source": [
        "Question 12: How does the elif statement work ?\n",
        "\n",
        "Answer 12:- An elif statement helps us in giving a condition which will be executed if the condition defined with if function is not true."
      ],
      "metadata": {
        "id": "Nkzm4T3Nrd5q"
      }
    },
    {
      "cell_type": "markdown",
      "source": [
        "Question 13:- What is the difference between for and while loops ?\n",
        "\n",
        "Answer 13:- The basic difference between a for and a while loop is a for loop is used when we can acertain the no. of iterations to be followed.\n",
        "Whereas a while loop us used in cases where no. of iterations are not ascertained."
      ],
      "metadata": {
        "id": "Og7TIIywr22C"
      }
    },
    {
      "cell_type": "markdown",
      "source": [
        "Question 14:-  Describe a scenario where a while loop is more suitable than a for loop ?\n",
        "\n",
        "Answer 14:- x=1\n",
        "           while x < 5:\n",
        "            print(x)\n",
        "            x+=1\n",
        "\n",
        "Since we are not sure the no. of iterations to be followed we will use while loop in this case"
      ],
      "metadata": {
        "id": "56_w2kEksbPS"
      }
    },
    {
      "cell_type": "markdown",
      "source": [
        "# ***Practical Questions***"
      ],
      "metadata": {
        "id": "4J0KBHNmt0St"
      }
    },
    {
      "cell_type": "code",
      "source": [
        "#Question 1:- Write a Python program to print \"Hello, World!\"\n",
        "\n",
        "print(\"Hello, World!\")"
      ],
      "metadata": {
        "colab": {
          "base_uri": "https://localhost:8080/"
        },
        "id": "-CnghEbNnFAz",
        "outputId": "7393a50e-70e3-472e-c140-c02e8d5b7e1d"
      },
      "execution_count": 9,
      "outputs": [
        {
          "output_type": "stream",
          "name": "stdout",
          "text": [
            "Hello, World!\n"
          ]
        }
      ]
    },
    {
      "cell_type": "code",
      "source": [
        "#Question 2:- Write a Python program that displays your name and age.\n",
        "\n",
        "Name= input(\"Enter your Name:- \")\n",
        "Age= input(\"Enter you Age:-\")"
      ],
      "metadata": {
        "colab": {
          "base_uri": "https://localhost:8080/"
        },
        "id": "lT4EdyPwnCRw",
        "outputId": "8d94f436-01f1-4bd7-cbab-3ccfa27a5275"
      },
      "execution_count": 11,
      "outputs": [
        {
          "name": "stdout",
          "output_type": "stream",
          "text": [
            "Enter your Name:- Nitin Sharma\n",
            "Enter you Age:-29\n"
          ]
        }
      ]
    },
    {
      "cell_type": "code",
      "source": [
        "#Question 3:- Write code to print all the pre-defined keywords in Python using the keyword library\n",
        "print(keywords_list)"
      ],
      "metadata": {
        "colab": {
          "base_uri": "https://localhost:8080/"
        },
        "id": "u2BkJvCQqHd4",
        "outputId": "47a3369c-32c5-4d9f-e053-ac93accfba05"
      },
      "execution_count": 19,
      "outputs": [
        {
          "output_type": "stream",
          "name": "stdout",
          "text": [
            "['False', 'None', 'True', 'and', 'as', 'assert', 'async', 'await', 'break', 'class', 'continue', 'def', 'del', 'elif', 'else', 'except', 'finally', 'for', 'from', 'global', 'if', 'import', 'in', 'is', 'lambda', 'nonlocal', 'not', 'or', 'pass', 'raise', 'return', 'try', 'while', 'with', 'yield']\n"
          ]
        }
      ]
    },
    {
      "cell_type": "code",
      "source": [
        "#Question 6:- Write a function to demonstrate the behavior of mutable and immutable arguments.\n",
        "\n",
        "## Mutable Argument>>\n",
        "\n",
        "a=[1,2,4,5.6,\"Nitin\", True, 40,50,60]\n",
        "a[3]=\"PW Skills\"\n",
        "print(a)\n",
        "\n",
        "##Immutable Argument\n",
        "a=\"PWSKILLS\"\n",
        "a[3]=\"N\""
      ],
      "metadata": {
        "colab": {
          "base_uri": "https://localhost:8080/",
          "height": 193
        },
        "id": "IA7CzOlTqI-N",
        "outputId": "3ab62808-4636-4be3-9b23-69b673a92050"
      },
      "execution_count": 29,
      "outputs": [
        {
          "output_type": "stream",
          "name": "stdout",
          "text": [
            "[1, 2, 4, 'PW Skills', 'Nitin', True, 40, 50, 60]\n"
          ]
        },
        {
          "output_type": "error",
          "ename": "TypeError",
          "evalue": "'str' object does not support item assignment",
          "traceback": [
            "\u001b[0;31m---------------------------------------------------------------------------\u001b[0m",
            "\u001b[0;31mTypeError\u001b[0m                                 Traceback (most recent call last)",
            "\u001b[0;32m<ipython-input-29-0bf8a4aeeb07>\u001b[0m in \u001b[0;36m<cell line: 0>\u001b[0;34m()\u001b[0m\n\u001b[1;32m      9\u001b[0m \u001b[0;31m##Immutable Argument\u001b[0m\u001b[0;34m\u001b[0m\u001b[0;34m\u001b[0m\u001b[0m\n\u001b[1;32m     10\u001b[0m \u001b[0ma\u001b[0m\u001b[0;34m=\u001b[0m\u001b[0;34m\"PWSKILLS\"\u001b[0m\u001b[0;34m\u001b[0m\u001b[0;34m\u001b[0m\u001b[0m\n\u001b[0;32m---> 11\u001b[0;31m \u001b[0ma\u001b[0m\u001b[0;34m[\u001b[0m\u001b[0;36m3\u001b[0m\u001b[0;34m]\u001b[0m\u001b[0;34m=\u001b[0m\u001b[0;34m\"N\"\u001b[0m\u001b[0;34m\u001b[0m\u001b[0;34m\u001b[0m\u001b[0m\n\u001b[0m",
            "\u001b[0;31mTypeError\u001b[0m: 'str' object does not support item assignment"
          ]
        }
      ]
    },
    {
      "cell_type": "code",
      "source": [
        "## Question 7:-  Write a program that performs basic arithmetic operations on two user-input numbers.\n",
        "x=int(input(\"Enter first number:-\"))\n",
        "y=int(input(\"Enter Second number:- \"))\n",
        "\n",
        "print(x+y)"
      ],
      "metadata": {
        "colab": {
          "base_uri": "https://localhost:8080/"
        },
        "id": "6Sk-g2YHv7fM",
        "outputId": "e3a23155-857f-4d7c-faec-7201094a7a21"
      },
      "execution_count": 35,
      "outputs": [
        {
          "output_type": "stream",
          "name": "stdout",
          "text": [
            "Enter first number:-45\n",
            "Enter Second number:- 45\n",
            "90\n"
          ]
        }
      ]
    },
    {
      "cell_type": "code",
      "source": [
        "## Question 8 :-  Write a program to demonstrate the use of logical operators.\n",
        "\n",
        "x=1\n",
        "x<5\n"
      ],
      "metadata": {
        "colab": {
          "base_uri": "https://localhost:8080/"
        },
        "id": "LnmK54RFxf3L",
        "outputId": "d3abf8dc-e9d6-4ae5-8059-1648423c2e65"
      },
      "execution_count": 39,
      "outputs": [
        {
          "output_type": "execute_result",
          "data": {
            "text/plain": [
              "True"
            ]
          },
          "metadata": {},
          "execution_count": 39
        }
      ]
    },
    {
      "cell_type": "code",
      "source": [
        "y=3\n",
        "y>10\n"
      ],
      "metadata": {
        "colab": {
          "base_uri": "https://localhost:8080/"
        },
        "id": "Qpu_RIMbyR7B",
        "outputId": "776072d2-259a-4476-895a-625451c2525a"
      },
      "execution_count": 40,
      "outputs": [
        {
          "output_type": "execute_result",
          "data": {
            "text/plain": [
              "False"
            ]
          },
          "metadata": {},
          "execution_count": 40
        }
      ]
    },
    {
      "cell_type": "code",
      "source": [
        "##Question 9:- Write a Python program to convert user input from string to integer, float, and boolean types.\n",
        "\n",
        "input1=int(input(\"Enter your first input:- \"))\n",
        "input2=float(input(\"Enter your second input:- \"))\n",
        "input3=bool(input(\"Enter your third input:- \"))\n",
        "\n",
        "print(type(input1))\n",
        "print(type(input2))\n",
        "print(type(input3))"
      ],
      "metadata": {
        "colab": {
          "base_uri": "https://localhost:8080/"
        },
        "id": "WisNGEg0yiwO",
        "outputId": "696c9a3f-e897-46b7-a142-4ed87ab4c076"
      },
      "execution_count": 46,
      "outputs": [
        {
          "output_type": "stream",
          "name": "stdout",
          "text": [
            "Enter your first input:- 1\n",
            "Enter your second input:- 2\n",
            "Enter your third input:- 3\n",
            "<class 'int'>\n",
            "<class 'float'>\n",
            "<class 'bool'>\n"
          ]
        }
      ]
    },
    {
      "cell_type": "code",
      "source": [
        "## Question 10:- Write code to demonstrate type casting with list elements.\n",
        "\n",
        "lst=[1,2,3,4,6.7,True,False,6+7j]\n",
        "\n",
        "print(int(lst[4]))\n",
        "print(float(lst[2]))\n",
        "print(bool(lst[7]))"
      ],
      "metadata": {
        "colab": {
          "base_uri": "https://localhost:8080/"
        },
        "id": "R-DOO_7czJUl",
        "outputId": "96a64bcc-d70b-4ecc-f3ba-cd6a60b9fbff"
      },
      "execution_count": 58,
      "outputs": [
        {
          "output_type": "stream",
          "name": "stdout",
          "text": [
            "6\n",
            "3.0\n",
            "True\n"
          ]
        }
      ]
    },
    {
      "cell_type": "code",
      "source": [
        "#Question 11:- Write a program that checks if a number is positive, negative, or zero.\n",
        "\n",
        "a=int(input(\"Enter your no.\"))\n",
        "\n",
        "if a > 0:\n",
        "  print(f\"{a} is a positive no\" )\n",
        "\n",
        "elif a < 0:\n",
        "    print(f\"{a} is a negative no\")\n",
        "\n",
        "else:\n",
        "      print(f\"{a} is a zero\")\n",
        "\n"
      ],
      "metadata": {
        "colab": {
          "base_uri": "https://localhost:8080/"
        },
        "id": "s_VgPF2SzdL4",
        "outputId": "17bec36a-a2c5-4544-a700-eb7d85a9d95f"
      },
      "execution_count": 65,
      "outputs": [
        {
          "output_type": "stream",
          "name": "stdout",
          "text": [
            "Enter your no.0\n",
            "0 is a zero\n"
          ]
        }
      ]
    },
    {
      "cell_type": "code",
      "source": [
        "## Question 12:- Write a for loop to print numbers from 1 to 10.\n",
        "\n",
        "for i in range(11):\n",
        "  print(i, end=\",\")"
      ],
      "metadata": {
        "colab": {
          "base_uri": "https://localhost:8080/"
        },
        "id": "v_NRQDrP1tzJ",
        "outputId": "919cfc4e-c2a8-486e-f94a-0d5fdedc2745"
      },
      "execution_count": 78,
      "outputs": [
        {
          "output_type": "stream",
          "name": "stdout",
          "text": [
            "0,1,2,3,4,5,6,7,8,9,10,"
          ]
        }
      ]
    },
    {
      "cell_type": "code",
      "source": [
        "## Question 13:- Write a Python program to find the sum of all even numbers between 1 and 50.\n",
        "\n",
        "Sum_1=0\n",
        "\n",
        "for num in range(1,51):\n",
        "  if num % 2==0:\n",
        "    Sum_1+=num\n",
        "\n",
        "print(Sum_1)\n",
        ""
      ],
      "metadata": {
        "colab": {
          "base_uri": "https://localhost:8080/"
        },
        "id": "dG4cGFbJ2R7k",
        "outputId": "405a280d-0f3a-47a8-e408-871e3f21dab6"
      },
      "execution_count": 76,
      "outputs": [
        {
          "output_type": "stream",
          "name": "stdout",
          "text": [
            "650\n"
          ]
        }
      ]
    },
    {
      "cell_type": "code",
      "source": [
        "## Question 15:- Write a Python program to calculate the factorial of a number provided by the user using a while loop.\n",
        "\n",
        "num = int(input(\"Enter a Number: \"))\n",
        "\n",
        "factorial = 1\n",
        "i = 1\n",
        "\n",
        "while i <= num:\n",
        "    factorial *= i\n",
        "    i += 1\n",
        "print(f\"Factorial of {num} is: {factorial}\")"
      ],
      "metadata": {
        "colab": {
          "base_uri": "https://localhost:8080/"
        },
        "id": "Gl00WYRm3ZrP",
        "outputId": "7333c7ae-3e01-4233-9386-ed8d5eb1711f"
      },
      "execution_count": 94,
      "outputs": [
        {
          "output_type": "stream",
          "name": "stdout",
          "text": [
            "Enter a Number: 6\n",
            "Factorial of 6 is: 720\n"
          ]
        }
      ]
    },
    {
      "cell_type": "code",
      "source": [],
      "metadata": {
        "id": "36VdkDj17N6h"
      },
      "execution_count": null,
      "outputs": []
    }
  ]
}